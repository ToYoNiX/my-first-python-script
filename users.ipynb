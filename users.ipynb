{
 "cells": [
  {
   "cell_type": "markdown",
   "metadata": {},
   "source": [
    "## Create a class for events"
   ]
  },
  {
   "cell_type": "code",
   "execution_count": 3,
   "metadata": {},
   "outputs": [],
   "source": [
    "class Event:\n",
    "  def __init__(self, event_date, event_type, machine_name, user):\n",
    "    self.date = event_date\n",
    "    self.type = event_type\n",
    "    self.machine = machine_name\n",
    "    self.user = user"
   ]
  },
  {
   "cell_type": "markdown",
   "metadata": {},
   "source": [
    "## Define the required functions"
   ]
  },
  {
   "cell_type": "code",
   "execution_count": 4,
   "metadata": {},
   "outputs": [],
   "source": [
    "def getEventDate(event):\n",
    "  return event.date\n",
    "\n",
    "\n",
    "def currentUsers (events):\n",
    "    # Sort the events with the date as a key\n",
    "    events = sorted(events, key=getEventDate)\n",
    "    \n",
    "    machines = {}\n",
    "    for event in events:\n",
    "        if event.machine not in machines:\n",
    "            machines[event.machine] = []\n",
    "            \n",
    "        if event.type == \"logout\":\n",
    "            machines[event.machine].remove(event.user)\n",
    "        else:\n",
    "            machines[event.machine].append(event.user)\n",
    "    \n",
    "    return report(machines)\n",
    "\n",
    "\n",
    "def report (machines):\n",
    "    for machine in machines:\n",
    "        if len(machines[machine]) > 0:\n",
    "            print(machine + \": \" + ''.join(machines[machine]))"
   ]
  },
  {
   "cell_type": "markdown",
   "metadata": {},
   "source": [
    "## Create a dict for every event happend"
   ]
  },
  {
   "cell_type": "code",
   "execution_count": 5,
   "metadata": {},
   "outputs": [],
   "source": [
    "events = [\n",
    "  Event('2020-01-21 12:45:46', 'login', 'myworkstation.local', 'jordan'),\n",
    "  Event('2020-01-22 15:53:42', 'logout', 'webserver.local', 'jordan'),\n",
    "  Event('2020-01-21 18:53:21', 'login', 'webserver.local', 'lane'),\n",
    "  Event('2020-01-22 10:25:34', 'logout', 'myworkstation.local', 'jordan'),\n",
    "  Event('2020-01-21 08:20:01', 'login', 'webserver.local', 'jordan'),\n",
    "  Event('2020-01-23 11:24:35', 'login', 'mailserver.local', 'chris'),\n",
    "]"
   ]
  },
  {
   "cell_type": "markdown",
   "metadata": {},
   "source": [
    "## Check the output"
   ]
  },
  {
   "cell_type": "code",
   "execution_count": 6,
   "metadata": {},
   "outputs": [
    {
     "name": "stdout",
     "output_type": "stream",
     "text": [
      "webserver.local: lane\n",
      "mailserver.local: chris\n"
     ]
    }
   ],
   "source": [
    "currentUsers(events)"
   ]
  }
 ],
 "metadata": {
  "kernelspec": {
   "display_name": "Python 3",
   "language": "python",
   "name": "python3"
  },
  "language_info": {
   "codemirror_mode": {
    "name": "ipython",
    "version": 3
   },
   "file_extension": ".py",
   "mimetype": "text/x-python",
   "name": "python",
   "nbconvert_exporter": "python",
   "pygments_lexer": "ipython3",
   "version": "3.11.2"
  }
 },
 "nbformat": 4,
 "nbformat_minor": 2
}
